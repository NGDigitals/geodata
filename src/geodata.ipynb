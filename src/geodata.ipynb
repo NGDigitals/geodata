{
 "cells": [
  {
   "cell_type": "code",
   "execution_count": 1,
   "id": "6bffa7bb",
   "metadata": {},
   "outputs": [
    {
     "name": "stderr",
     "output_type": "stream",
     "text": [
      "INFO:     Started server process [7384]\n",
      "INFO:     Waiting for application startup.\n",
      "INFO:     Application startup complete.\n",
      "INFO:     Uvicorn running on http://127.0.0.1:8000 (Press CTRL+C to quit)\n"
     ]
    },
    {
     "name": "stdout",
     "output_type": "stream",
     "text": [
      "INFO:     127.0.0.1:55088 - \"GET /data/?bounds=7.252371998643707%205.210173016535857%207.249902815313859%205.206793433177093%207.249083298888855%205.212876683222869%207.251712132010546%205.214646941172698%207.252371998643707%205.210173016535857 HTTP/1.1\" 200 OK\n"
     ]
    }
   ],
   "source": [
    "import overpy\n",
    "import asyncio\n",
    "import uvicorn\n",
    "from typing import List\n",
    "from fastapi import FastAPI\n",
    "from pydantic import BaseModel\n",
    "from uvicorn import Config, Server\n",
    "        \n",
    "class GeoData:\n",
    "\n",
    "    def __init__(self):\n",
    "        self.api = overpy.Overpass()\n",
    "    \n",
    "    def loadByBounds(self, bounds=\"\"):\n",
    "        self.api = overpy.Overpass()\n",
    "        result = self.api.query(f\"\"\"\n",
    "                                node(poly:\"{bounds}\");\n",
    "                                out body;\n",
    "                                \"\"\")\n",
    "        data = []\n",
    "        for node in result.nodes:\n",
    "            location = dict(name = node.tags.get(\"name\", \"n/a\"), lat = \"%f\" % (node.lat), lng = \"%f\" % (node.lon))\n",
    "            data.append(location)\n",
    "        return data\n",
    "\n",
    "\n",
    "app = FastAPI()\n",
    "\n",
    "@app.get(\"/data/\")\n",
    "def fetchDataByBounds(bounds: str):\n",
    "    geodata = GeoData();\n",
    "    result = geodata.loadByBounds(bounds)\n",
    "    return {\"result\": result}\n",
    "\n",
    "\n",
    "if __name__ == \"__main__\":\n",
    "    config = Config(app)\n",
    "    server = Server(config=config)\n",
    "    loop = asyncio.get_running_loop()\n",
    "    loop.create_task(server.serve())\n",
    "        "
   ]
  },
  {
   "cell_type": "code",
   "execution_count": null,
   "id": "855f0b58",
   "metadata": {},
   "outputs": [],
   "source": []
  },
  {
   "cell_type": "code",
   "execution_count": null,
   "id": "9c361447",
   "metadata": {},
   "outputs": [],
   "source": []
  },
  {
   "cell_type": "code",
   "execution_count": null,
   "id": "6f5443f1",
   "metadata": {},
   "outputs": [],
   "source": []
  },
  {
   "cell_type": "code",
   "execution_count": null,
   "id": "760f7741",
   "metadata": {},
   "outputs": [],
   "source": []
  }
 ],
 "metadata": {
  "kernelspec": {
   "display_name": "Python 3 (ipykernel)",
   "language": "python",
   "name": "python3"
  },
  "language_info": {
   "codemirror_mode": {
    "name": "ipython",
    "version": 3
   },
   "file_extension": ".py",
   "mimetype": "text/x-python",
   "name": "python",
   "nbconvert_exporter": "python",
   "pygments_lexer": "ipython3",
   "version": "3.9.13"
  }
 },
 "nbformat": 4,
 "nbformat_minor": 5
}
